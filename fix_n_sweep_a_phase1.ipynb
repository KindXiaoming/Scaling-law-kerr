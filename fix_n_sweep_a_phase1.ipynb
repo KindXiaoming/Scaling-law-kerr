{
 "cells": [
  {
   "cell_type": "code",
   "execution_count": 27,
   "id": "81ac9427",
   "metadata": {},
   "outputs": [],
   "source": [
    "%run ./model4.ipynb"
   ]
  },
  {
   "cell_type": "code",
   "execution_count": 28,
   "id": "2050b233",
   "metadata": {},
   "outputs": [
    {
     "name": "stdout",
     "output_type": "stream",
     "text": [
      "a=0.0\n",
      "time=46.95778203010559\n",
      "3.842280579897573e-06\n",
      "a=0.1\n",
      "time=14.918812036514282\n",
      "5.482204561150558e-06\n",
      "a=0.2\n",
      "time=17.689453125\n",
      "3.0700871530371906e-05\n",
      "a=0.3\n",
      "time=15.795058965682983\n",
      "0.00014053962511271354\n",
      "a=0.4\n",
      "time=17.580574989318848\n",
      "0.00043718901034971245\n",
      "a=0.5\n",
      "time=15.27832293510437\n",
      "0.001064589969802112\n",
      "a=0.6\n",
      "time=17.50572896003723\n",
      "0.00220915474487081\n",
      "a=0.7\n",
      "time=18.317718982696533\n",
      "0.004100558138832902\n",
      "a=0.8\n",
      "time=14.740431070327759\n",
      "0.0070125880504171186\n",
      "a=0.9\n",
      "time=16.269411087036133\n",
      "0.011264066486592774\n",
      "a=1.0\n",
      "time=15.461892127990723\n",
      "0.01721982316893347\n"
     ]
    }
   ],
   "source": [
    "n = 6\n",
    "n_grid = 6\n",
    "a_s = [0.0,0.1,0.2,0.3,0.4,0.5,0.6,0.7,0.8,0.9,1.0]\n",
    "\n",
    "\n",
    "############# Initialize ############\n",
    "theta_start = 0\n",
    "theta_end = np.pi\n",
    "r_start = 3\n",
    "r_end = 4\n",
    "\n",
    "n_grid = 6\n",
    "thetas = torch.linspace(theta_start,theta_end,steps=n_grid, dtype=torch.double)\n",
    "rs = torch.linspace(r_start,r_end,steps=n_grid, dtype=torch.double)\n",
    "f_free = torch.zeros((n_grid,5*n_grid-2), dtype=torch.double)\n",
    "f_free[:,:n_grid] = 0.001*(rs[:,np.newaxis] + thetas[np.newaxis,:])\n",
    "f_free[:,n_grid:2*n_grid] = 0.001*(rs[:,np.newaxis] + thetas[np.newaxis,:])\n",
    "f_free[:,2*n_grid:3*n_grid-2] = 0.001*(rs[:,np.newaxis] + thetas[np.newaxis,1:-1])\n",
    "f_free[:,3*n_grid-2:4*n_grid-2] = 0.001*(rs[:,np.newaxis] + thetas[np.newaxis,:])\n",
    "f_free[:,4*n_grid-2:5*n_grid-2] = 0.001*torch.ones((n_grid,n_grid), dtype=torch.double)\n",
    "f_free = f_free.reshape(-1,)\n",
    "f_free = torch.nn.Parameter(f_free, requires_grad=True)\n",
    "\n",
    "#interp_mode = \"bicubic\"\n",
    "#align_corners = True\n",
    "M = 1.0\n",
    "\n",
    "############# Train ##############\n",
    "for a in a_s:\n",
    "    print(\"a={}\".format(a))\n",
    "    f_free, error, duration = train(a, n, f_free)\n",
    "    f_free = torch.nn.Parameter(f_free, requires_grad=True)\n",
    "    print(error)\n",
    "    torch.save(f_free.clone(), \"./kerr_result/f_free_a_%.3f_n_%d_fix_n_sweep_a\"%(a,n))\n",
    "    np.save(\"./kerr_result/error_a_%.3f_n_%d_fix_n_sweep_a.npy\"%(a,n), error)\n",
    "    np.save(\"./kerr_result/time_a_%.3f_n_%d_fix_n_sweep_a.npy\"%(a,n), duration)\n",
    "    np.save(\"./kerr_result/losses_a_%.3f_n_%d_fix_n_sweep_a.npy\"%(a,n), error)"
   ]
  },
  {
   "cell_type": "code",
   "execution_count": 29,
   "id": "d0e32983",
   "metadata": {},
   "outputs": [],
   "source": [
    "f_frees = []\n",
    "times = []\n",
    "errors = []\n",
    "for a in a_s:\n",
    "    f_free = torch.load(\"./kerr_result/f_free_a_%.3f_n_%d_fix_n_sweep_a\"%(a,n))\n",
    "    duration = np.load(\"./kerr_result/time_a_%.3f_n_%d_fix_n_sweep_a.npy\"%(a,n))\n",
    "    error = np.load(\"./kerr_result/error_a_%.3f_n_%d_fix_n_sweep_a.npy\"%(a,n))\n",
    "    np.load(\"./kerr_result/error_a_%.3f_n_%d_fix_n_sweep_a.npy\"%(a,n))\n",
    "    f_frees.append(f_free)\n",
    "    times.append(duration)\n",
    "    errors.append(error)"
   ]
  },
  {
   "cell_type": "code",
   "execution_count": 30,
   "id": "e29b50c4",
   "metadata": {},
   "outputs": [
    {
     "data": {
      "text/plain": [
       "[<matplotlib.lines.Line2D at 0x7faee890c7c0>]"
      ]
     },
     "execution_count": 30,
     "metadata": {},
     "output_type": "execute_result"
    },
    {
     "data": {
      "image/png": "[encoded data removed]",
      "text/plain": [
       "<Figure size 720x360 with 2 Axes>"
      ]
     },
     "metadata": {
      "needs_background": "light"
     },
     "output_type": "display_data"
    }
   ],
   "source": [
    "plt.figure(figsize=(10,5))\n",
    "plt.subplot(1,2,1)\n",
    "plt.plot(a_s, errors, marker=\"o\")\n",
    "plt.yscale('log')\n",
    "\n",
    "plt.subplot(1,2,2)\n",
    "plt.plot(a_s, times, marker=\"o\")"
   ]
  },
  {
   "cell_type": "code",
   "execution_count": 11,
   "id": "85fdc7bd",
   "metadata": {},
   "outputs": [
    {
     "data": {
      "text/plain": [
       "torch.Size([114])"
      ]
     },
     "execution_count": 11,
     "metadata": {},
     "output_type": "execute_result"
    }
   ],
   "source": [
    "f_free.reshape"
   ]
  },
  {
   "cell_type": "code",
   "execution_count": null,
   "id": "135fe125",
   "metadata": {},
   "outputs": [],
   "source": []
  }
 ],
 "metadata": {
  "kernelspec": {
   "display_name": "Python 3 (ipykernel)",
   "language": "python",
   "name": "python3"
  },
  "language_info": {
   "codemirror_mode": {
    "name": "ipython",
    "version": 3
   },
   "file_extension": ".py",
   "mimetype": "text/x-python",
   "name": "python",
   "nbconvert_exporter": "python",
   "pygments_lexer": "ipython3",
   "version": "3.9.7"
  }
 },
 "nbformat": 4,
 "nbformat_minor": 5
}
