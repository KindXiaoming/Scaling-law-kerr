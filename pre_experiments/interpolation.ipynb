{
 "cells": [
  {
   "cell_type": "code",
   "execution_count": 12,
   "id": "1fdef2eb",
   "metadata": {},
   "outputs": [
    {
     "data": {
      "text/plain": [
       "tensor([[[0.0000, 0.0000, 0.1111, 0.1111, 0.2222, 0.2222, 0.3333, 0.3333,\n",
       "          0.4444, 0.4444, 0.5556, 0.5556, 0.6667, 0.6667, 0.7778, 0.7778,\n",
       "          0.8889, 0.8889, 1.0000, 1.0000],\n",
       "         [0.0000, 0.0000, 0.0123, 0.0123, 0.0494, 0.0494, 0.1111, 0.1111,\n",
       "          0.1975, 0.1975, 0.3086, 0.3086, 0.4444, 0.4444, 0.6049, 0.6049,\n",
       "          0.7901, 0.7901, 1.0000, 1.0000],\n",
       "         [0.0000, 0.0000, 0.0014, 0.0014, 0.0110, 0.0110, 0.0370, 0.0370,\n",
       "          0.0878, 0.0878, 0.1715, 0.1715, 0.2963, 0.2963, 0.4705, 0.4705,\n",
       "          0.7023, 0.7023, 1.0000, 1.0000]]])"
      ]
     },
     "execution_count": 12,
     "metadata": {},
     "output_type": "execute_result"
    }
   ],
   "source": [
    "import torch\n",
    "import torch.nn.functional as F\n",
    "\n",
    "data_c = torch.zeros(1,3,10)\n",
    "data_c[:,0] = torch.linspace(0,1,steps=10)\n",
    "data_c[:,1] = torch.linspace(0,1,steps=10)**2\n",
    "data_c[:,2] = torch.linspace(0,1,steps=10)**3\n",
    "\n",
    "F.interpolate(data_c, size=(20))"
   ]
  },
  {
   "cell_type": "code",
   "execution_count": null,
   "id": "ada18109",
   "metadata": {},
   "outputs": [],
   "source": []
  }
 ],
 "metadata": {
  "kernelspec": {
   "display_name": "Python 3 (ipykernel)",
   "language": "python",
   "name": "python3"
  },
  "language_info": {
   "codemirror_mode": {
    "name": "ipython",
    "version": 3
   },
   "file_extension": ".py",
   "mimetype": "text/x-python",
   "name": "python",
   "nbconvert_exporter": "python",
   "pygments_lexer": "ipython3",
   "version": "3.9.7"
  }
 },
 "nbformat": 4,
 "nbformat_minor": 5
}
