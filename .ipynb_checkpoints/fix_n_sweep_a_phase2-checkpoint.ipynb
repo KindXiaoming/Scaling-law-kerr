{
 "cells": [
  {
   "cell_type": "code",
   "execution_count": 1,
   "id": "fc87d68f",
   "metadata": {},
   "outputs": [],
   "source": [
    "%run ./model.ipynb"
   ]
  },
  {
   "cell_type": "code",
   "execution_count": 2,
   "id": "e88ac2db",
   "metadata": {},
   "outputs": [],
   "source": [
    "### Phase 2: Fix each a, sweep n ##3\n",
    "\n",
    "\n",
    "def train_p2(n):\n",
    "\n",
    "    n_grids = [6,8,12,16,20,24,28,32,36,40,44,48]\n",
    "\n",
    "    interp_mode = 'bilinear'\n",
    "    align_corners = True\n",
    "    M = 1.0\n",
    "\n",
    "    ############# Train ##############\n",
    "    ii = 0\n",
    "    for a in a_s:\n",
    "        print(\"a={}\".format(a))\n",
    "        if ii == 0:\n",
    "            f_free = torch.load(\"./kerr_result/f_free_a_%.3f_n_%d_fix_a_sweep_n\"%(0.000,n))\n",
    "            ii = ii + 1\n",
    "            continue\n",
    "        else:\n",
    "            f_free, error, duration, losses = train(a, n, f_free)\n",
    "            f_free = torch.nn.Parameter(f_free, requires_grad=True)\n",
    "            torch.save(f_free.clone(), \"./kerr_result/f_free_a_%.3f_n_%d_fix_a_sweep_n\"%(a,n))\n",
    "            np.save(\"./kerr_result/error_a_%.3f_n_%d_fix_a_sweep_n.npy\"%(a,n), error)\n",
    "            np.save(\"./kerr_result/time_a_%.3f_n_%d_fix_a_sweep_n.npy\"%(a,n), duration)\n",
    "            np.save(\"./kerr_result/losses_a_%.3f_n_%d_fix_a_sweep_n.npy\"%(a,n), error)\n",
    "            ii = ii + 1"
   ]
  },
  {
   "cell_type": "code",
   "execution_count": null,
   "id": "1a86f26d",
   "metadata": {},
   "outputs": [
    {
     "name": "stdout",
     "output_type": "stream",
     "text": [
      "a=0.0a=0.0a=0.0a=0.0a=0.0a=0.0a=0.0a=0.0\n",
      "a=0.0a=0.0\n",
      "a=0.0\n",
      "\n",
      "\n",
      "\n",
      "\n",
      "\n",
      "\n",
      "\n",
      "\n",
      "a=0.1a=0.1a=0.1a=0.1a=0.1"
     ]
    }
   ],
   "source": [
    "from multiprocess import Pool\n",
    "\n",
    "a_s = [0.0,0.1,0.2,0.3,0.4,0.5,0.6,0.7,0.8,0.9,1.0]\n",
    "\n",
    "\n",
    "if __name__ == '__main__':\n",
    "    with Pool(11) as p:\n",
    "        print(p.map(train_p2, n_grids))"
   ]
  },
  {
   "cell_type": "code",
   "execution_count": null,
   "id": "8787977f",
   "metadata": {},
   "outputs": [],
   "source": []
  }
 ],
 "metadata": {
  "kernelspec": {
   "display_name": "Python 3 (ipykernel)",
   "language": "python",
   "name": "python3"
  },
  "language_info": {
   "codemirror_mode": {
    "name": "ipython",
    "version": 3
   },
   "file_extension": ".py",
   "mimetype": "text/x-python",
   "name": "python",
   "nbconvert_exporter": "python",
   "pygments_lexer": "ipython3",
   "version": "3.9.7"
  }
 },
 "nbformat": 4,
 "nbformat_minor": 5
}
