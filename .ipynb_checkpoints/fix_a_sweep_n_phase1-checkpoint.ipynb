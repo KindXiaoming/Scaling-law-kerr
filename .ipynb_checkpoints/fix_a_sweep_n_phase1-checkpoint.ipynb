{
 "cells": [
  {
   "cell_type": "code",
   "execution_count": 3,
   "id": "81ac9427",
   "metadata": {},
   "outputs": [],
   "source": [
    "%run ./model.ipynb"
   ]
  },
  {
   "cell_type": "code",
   "execution_count": 4,
   "id": "2050b233",
   "metadata": {},
   "outputs": [
    {
     "name": "stdout",
     "output_type": "stream",
     "text": [
      "Epoch: 0 | Loss: 0.4259971752205497\n",
      "loss=0.4259971752205497\n",
      "time=0.01566910743713379\n",
      "Epoch: 0 | Loss: 0.42698493747736466\n",
      "loss=0.42698493747736466\n",
      "time=0.012161016464233398\n",
      "Epoch: 0 | Loss: 0.3755690284630432\n",
      "loss=0.3755690284630432\n",
      "time=0.011226892471313477\n",
      "Epoch: 0 | Loss: 0.35430430650932904\n",
      "loss=0.35430430650932904\n",
      "time=0.012290239334106445\n",
      "Epoch: 0 | Loss: 0.337436343908437\n",
      "loss=0.337436343908437\n",
      "time=0.012876033782958984\n",
      "Epoch: 0 | Loss: 0.32734195147242884\n",
      "loss=0.32734195147242884\n",
      "time=0.014640092849731445\n",
      "Epoch: 0 | Loss: 0.32349611677953455\n",
      "loss=0.32349611677953455\n",
      "time=0.014650821685791016\n",
      "Epoch: 0 | Loss: 0.31976359747127314\n",
      "loss=0.31976359747127314\n",
      "time=0.014732837677001953\n",
      "Epoch: 0 | Loss: 0.31775504942011534\n",
      "loss=0.31775504942011534\n",
      "time=0.016775846481323242\n",
      "Epoch: 0 | Loss: 0.31610126169976516\n",
      "loss=0.31610126169976516\n",
      "time=0.01796579360961914\n",
      "Epoch: 0 | Loss: 0.31505405988514035\n",
      "loss=0.31505405988514035\n",
      "time=0.01899099349975586\n",
      "Epoch: 0 | Loss: 0.31411137176774473\n",
      "loss=0.31411137176774473\n",
      "time=0.020463228225708008\n"
     ]
    }
   ],
   "source": [
    "a = 0.0\n",
    "n_grids = [6,8,12,16,20,24,28,32,36,40,44,48]\n",
    "\n",
    "############# Initialize ############\n",
    "theta_start = 0\n",
    "theta_end = np.pi/2\n",
    "r_start = 3\n",
    "r_end = 4\n",
    "\n",
    "thetas = torch.linspace(theta_start,theta_end,steps=n_grid, dtype=torch.double)\n",
    "rs = torch.linspace(r_start,r_end,steps=n_grid, dtype=torch.double)\n",
    "f_free = torch.zeros((n_grid,4*n_grid-5), dtype=torch.double)\n",
    "f_free[:,:n_grid-1] = 0.001*(rs[:,np.newaxis] + thetas[np.newaxis,:-1])\n",
    "f_free[:,n_grid-1:2*(n_grid-1)] = 0.001*(rs[:,np.newaxis] + thetas[np.newaxis,:-1])\n",
    "f_free[:,2*(n_grid-1):3*n_grid-4] = 0.001*(rs[:,np.newaxis] + thetas[np.newaxis,1:-1])\n",
    "f_free[:,3*n_grid-4:4*n_grid-5] = 0.001*(rs[:,np.newaxis] + thetas[np.newaxis,:-1])\n",
    "f_free = f_free.reshape(-1,)\n",
    "f_free = torch.nn.Parameter(f_free, requires_grad=True)\n",
    "\n",
    "interp_mode = \"bilinear\"\n",
    "align_corners = True\n",
    "M = 1.0\n",
    "\n",
    "############# Train ##############\n",
    "ii = 0\n",
    "for n in n_grids:\n",
    "    if ii > 0:\n",
    "        f_free_old = f_free.reshape(n_old, 4*n_old-5)\n",
    "        f_free = interp_f_free(f_free_old, n, n_old).reshape(-1,)\n",
    "        f_free = torch.nn.Parameter(f_free, requires_grad=True)\n",
    "    f_free, error, duration = train(a, n, f_free)\n",
    "    torch.save(f_free.clone(), \"./fix_a_sweep_n_results/f_free_a_%.3f_n_%d_fix_a_sweep_n\"%(a,n))\n",
    "    np.save(\"./fix_a_sweep_n_results/error_a_%.3f_n_%d_fix_a_sweep_n.npy\"%(a,n), error)\n",
    "    np.save(\"./fix_a_sweep_n_results/time_a_%.3f_n_%d_fix_a_sweep_n.npy\"%(a,n), duration)\n",
    "    ii = ii + 1\n",
    "    n_old = n"
   ]
  },
  {
   "cell_type": "code",
   "execution_count": 7,
   "id": "d0e32983",
   "metadata": {},
   "outputs": [],
   "source": [
    "f_frees = []\n",
    "times = []\n",
    "errors = []\n",
    "for n in n_grids:\n",
    "    f_free = torch.load(\"./fix_a_sweep_n_results/f_free_a_%.3f_n_%d_fix_a_sweep_n\"%(a,n))\n",
    "    duration = np.load(\"./fix_a_sweep_n_results/time_a_%.3f_n_%d_fix_a_sweep_n.npy\"%(a,n))\n",
    "    error = np.load(\"./fix_a_sweep_n_results/error_a_%.3f_n_%d_fix_a_sweep_n.npy\"%(a,n))\n",
    "    f_frees.append(f_free)\n",
    "    times.append(duration)\n",
    "    errors.append(error)"
   ]
  },
  {
   "cell_type": "code",
   "execution_count": 11,
   "id": "e29b50c4",
   "metadata": {},
   "outputs": [
    {
     "data": {
      "text/plain": [
       "[<matplotlib.lines.Line2D at 0x7fad781d35e0>]"
      ]
     },
     "execution_count": 11,
     "metadata": {},
     "output_type": "execute_result"
    },
    {
     "data": {
      "image/png": "[encoded data removed]",
      "text/plain": [
       "<Figure size 720x360 with 2 Axes>"
      ]
     },
     "metadata": {
      "needs_background": "light"
     },
     "output_type": "display_data"
    }
   ],
   "source": [
    "plt.figure(figsize=(10,5))\n",
    "plt.subplot(1,2,1)\n",
    "plt.plot(n_grids, errors, marker=\"o\")\n",
    "\n",
    "plt.subplot(1,2,2)\n",
    "plt.plot(n_grids, times, marker=\"o\")"
   ]
  },
  {
   "cell_type": "code",
   "execution_count": null,
   "id": "85fdc7bd",
   "metadata": {},
   "outputs": [],
   "source": []
  }
 ],
 "metadata": {
  "kernelspec": {
   "display_name": "Python 3 (ipykernel)",
   "language": "python",
   "name": "python3"
  },
  "language_info": {
   "codemirror_mode": {
    "name": "ipython",
    "version": 3
   },
   "file_extension": ".py",
   "mimetype": "text/x-python",
   "name": "python",
   "nbconvert_exporter": "python",
   "pygments_lexer": "ipython3",
   "version": "3.9.7"
  }
 },
 "nbformat": 4,
 "nbformat_minor": 5
}
