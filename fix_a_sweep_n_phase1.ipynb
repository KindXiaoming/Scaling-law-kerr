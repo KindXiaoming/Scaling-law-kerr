{
 "cells": [
  {
   "cell_type": "code",
   "execution_count": 55,
   "id": "20c60d2d",
   "metadata": {},
   "outputs": [],
   "source": [
    "%run ./model4.ipynb"
   ]
  },
  {
   "cell_type": "code",
   "execution_count": 56,
   "id": "80516243",
   "metadata": {},
   "outputs": [
    {
     "name": "stdout",
     "output_type": "stream",
     "text": [
      "n=6\n",
      "time=46.88653588294983\n",
      "3.842280579897573e-06\n",
      "n=8\n",
      "time=20.775413036346436\n",
      "1.1149405503541932e-06\n",
      "n=12\n",
      "time=39.72388505935669\n",
      "2.007917835975314e-07\n",
      "n=16\n",
      "time=40.569754123687744\n",
      "6.053397111695583e-08\n",
      "n=20\n",
      "time=50.879552125930786\n",
      "2.4070139642997663e-08\n",
      "n=24\n",
      "time=80.08733201026917\n",
      "1.1377590310863445e-08\n",
      "n=28\n",
      "time=88.07459712028503\n",
      "6.05327471069515e-09\n",
      "n=32\n",
      "time=102.75643491744995\n",
      "3.509843342360784e-09\n",
      "n=36\n",
      "time=117.2785918712616\n",
      "2.172587044622406e-09\n",
      "n=40\n",
      "time=131.72841787338257\n",
      "1.4157147451661055e-09\n",
      "n=44\n",
      "time=151.2459897994995\n",
      "9.615381854987877e-10\n",
      "n=48\n",
      "time=175.81905364990234\n",
      "6.757332007880785e-10\n"
     ]
    }
   ],
   "source": [
    "a = 0.0\n",
    "n_grids = [6,8,12,16,20,24,28,32,36,40,44,48]\n",
    "#n_grids = [6,8,12,16,20,24,28]\n",
    "#n_grids = [6]\n",
    "\n",
    "############# Initialize ############\n",
    "theta_start = 0\n",
    "theta_end = np.pi\n",
    "r_start = 3\n",
    "r_end = 4\n",
    "\n",
    "n_grid = 6\n",
    "thetas = torch.linspace(theta_start,theta_end,steps=n_grid, dtype=torch.double)\n",
    "rs = torch.linspace(r_start,r_end,steps=n_grid, dtype=torch.double)\n",
    "f_free = torch.zeros((n_grid,5*n_grid-2), dtype=torch.double)\n",
    "f_free[:,:n_grid] = 0.001*(rs[:,np.newaxis] + thetas[np.newaxis,:])\n",
    "f_free[:,n_grid:2*n_grid] = 0.001*(rs[:,np.newaxis] + thetas[np.newaxis,:])\n",
    "f_free[:,2*n_grid:3*n_grid-2] = 0.001*(rs[:,np.newaxis] + thetas[np.newaxis,1:-1])\n",
    "f_free[:,3*n_grid-2:4*n_grid-2] = 0.001*(rs[:,np.newaxis] + thetas[np.newaxis,:])\n",
    "f_free[:,4*n_grid-2:5*n_grid-2] = 0.001*torch.ones((n_grid,n_grid), dtype=torch.double)\n",
    "f_free = f_free.reshape(-1,)\n",
    "f_free = torch.nn.Parameter(f_free, requires_grad=True)\n",
    "\n",
    "#interp_mode = \"bicubic\"\n",
    "#align_corners = True\n",
    "M = 1.0\n",
    "\n",
    "############# Train ##############\n",
    "ii = 0\n",
    "for n in n_grids:\n",
    "    print(\"n={}\".format(n))\n",
    "    if ii > 0:\n",
    "        f_free_old = f_free.reshape(n_old, 5*n_old-2)\n",
    "        #f_pad_old = free2pad(f_free_old, n_old)\n",
    "        f_free = interp_f_free(f_free_old, n, n_old).reshape(-1,)\n",
    "        f_free = torch.nn.Parameter(f_free, requires_grad=True)\n",
    "    f_free, error, duration = train(a, n, f_free, maxiter=1000)\n",
    "    print(error)\n",
    "    torch.save(f_free.clone(), \"./kerr_result/f_free_a_%.3f_n_%d_fix_a_sweep_n\"%(a,n))\n",
    "    np.save(\"./kerr_result/error_a_%.3f_n_%d_fix_a_sweep_n.npy\"%(a,n), error)\n",
    "    np.save(\"./kerr_result/time_a_%.3f_n_%d_fix_a_sweep_n.npy\"%(a,n), duration)\n",
    "    np.save(\"./kerr_result/losses_a_%.3f_n_%d_fix_a_sweep_n.npy\"%(a,n), error)\n",
    "    ii = ii + 1\n",
    "    n_old = n"
   ]
  },
  {
   "cell_type": "code",
   "execution_count": 57,
   "id": "b13718d6",
   "metadata": {},
   "outputs": [],
   "source": [
    "f_frees = []\n",
    "times = []\n",
    "errors = []\n",
    "for n in n_grids:\n",
    "    f_free = torch.load(\"./kerr_result/f_free_a_%.3f_n_%d_fix_a_sweep_n\"%(a,n))\n",
    "    duration = np.load(\"./kerr_result/time_a_%.3f_n_%d_fix_a_sweep_n.npy\"%(a,n))\n",
    "    error = np.load(\"./kerr_result/error_a_%.3f_n_%d_fix_a_sweep_n.npy\"%(a,n))\n",
    "    losses = np.load(\"./kerr_result/losses_a_%.3f_n_%d_fix_a_sweep_n.npy\"%(a,n))\n",
    "    f_frees.append(f_free)\n",
    "    times.append(duration)\n",
    "    errors.append(error)"
   ]
  },
  {
   "cell_type": "code",
   "execution_count": 58,
   "id": "44b61d29",
   "metadata": {},
   "outputs": [
    {
     "data": {
      "image/png": "[encoded data removed]",
      "text/plain": [
       "<Figure size 720x360 with 2 Axes>"
      ]
     },
     "metadata": {
      "needs_background": "light"
     },
     "output_type": "display_data"
    }
   ],
   "source": [
    "# n_grids -> n_grids - 1\n",
    "\n",
    "plt.figure(figsize=(10,5))\n",
    "plt.subplot(1,2,1)\n",
    "plt.plot(n_grids, errors, marker=\"o\")\n",
    "plt.yscale('log')\n",
    "plt.xscale('log')\n",
    "\n",
    "plt.subplot(1,2,2)\n",
    "plt.plot(n_grids, times, marker=\"o\")\n",
    "plt.yscale('log')\n",
    "plt.xscale('log')"
   ]
  },
  {
   "cell_type": "code",
   "execution_count": 68,
   "id": "15444fa5",
   "metadata": {},
   "outputs": [
    {
     "data": {
      "text/plain": [
       "-4.013932550204011"
      ]
     },
     "execution_count": 68,
     "metadata": {},
     "output_type": "execute_result"
    }
   ],
   "source": [
    "start_id = -9\n",
    "end_id = -1\n",
    "\n",
    "(np.log(errors[end_id])-np.log(errors[start_id]))/(np.log(2*n_grids[end_id]-1)-np.log(2*n_grids[start_id]-1))"
   ]
  },
  {
   "cell_type": "code",
   "execution_count": null,
   "id": "00054cf9",
   "metadata": {},
   "outputs": [],
   "source": []
  }
 ],
 "metadata": {
  "kernelspec": {
   "display_name": "Python 3 (ipykernel)",
   "language": "python",
   "name": "python3"
  },
  "language_info": {
   "codemirror_mode": {
    "name": "ipython",
    "version": 3
   },
   "file_extension": ".py",
   "mimetype": "text/x-python",
   "name": "python",
   "nbconvert_exporter": "python",
   "pygments_lexer": "ipython3",
   "version": "3.9.7"
  }
 },
 "nbformat": 4,
 "nbformat_minor": 5
}
